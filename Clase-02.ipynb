{
 "cells": [
  {
   "cell_type": "markdown",
   "metadata": {},
   "source": [
    "# Clase 2"
   ]
  },
  {
   "cell_type": "code",
   "execution_count": null,
   "metadata": {},
   "outputs": [],
   "source": [
    "num1 = int(input(\"num1\"))\n",
    "num2 = int(input(\"num2\"))\n",
    "\n",
    "if num"
   ]
  },
  {
   "cell_type": "code",
   "execution_count": 5,
   "metadata": {},
   "outputs": [
    {
     "name": "stdout",
     "output_type": "stream",
     "text": [
      "12 es el mayor\n"
     ]
    }
   ],
   "source": [
    "num1 = int(input(\"num1\"))\n",
    "num2 = int(input(\"num2\"))\n",
    "\n",
    "if num1 > num2:\n",
    "    print(f'{num1} es el mayor')\n",
    "elif num2 > num1:\n",
    "    print(f'{num2} es el menor')\n",
    "else:\n",
    "    print(f'amobos son iguales')"
   ]
  },
  {
   "cell_type": "markdown",
   "metadata": {},
   "source": [
    "## Listas"
   ]
  },
  {
   "cell_type": "code",
   "execution_count": 7,
   "metadata": {},
   "outputs": [
    {
     "name": "stdout",
     "output_type": "stream",
     "text": [
      "['Mango', 'Kiwi', 'Sandía']\n",
      "Mango\n"
     ]
    }
   ],
   "source": [
    "mis_frutas= [\"Mango\",\"Kiwi\",\"Sandía\"]\n",
    "print(mis_frutas)\n",
    "print(mis_frutas [0])"
   ]
  },
  {
   "cell_type": "code",
   "execution_count": null,
   "metadata": {},
   "outputs": [],
   "source": [
    "palabra= \"Harry Potter y el misterio del principe\"\n",
    "palabra[0:2]\n",
    "palabra"
   ]
  },
  {
   "cell_type": "code",
   "execution_count": 13,
   "metadata": {},
   "outputs": [
    {
     "ename": "AttributeError",
     "evalue": "'set' object has no attribute 'sort'",
     "output_type": "error",
     "traceback": [
      "\u001b[1;31m---------------------------------------------------------------------------\u001b[0m",
      "\u001b[1;31mAttributeError\u001b[0m                            Traceback (most recent call last)",
      "Cell \u001b[1;32mIn[13], line 3\u001b[0m\n\u001b[0;32m      1\u001b[0m mis_numeros\u001b[39m=\u001b[39m {\u001b[39m10\u001b[39m,\u001b[39m15\u001b[39m,\u001b[39m20\u001b[39m,\u001b[39m12\u001b[39m,\u001b[39m11\u001b[39m,\u001b[39m19\u001b[39m,\u001b[39m7\u001b[39m,\u001b[39m10\u001b[39m,\u001b[39m6\u001b[39m,\u001b[39m3\u001b[39m}\n\u001b[1;32m----> 3\u001b[0m mis_numeros\u001b[39m.\u001b[39;49msort()\n\u001b[0;32m      4\u001b[0m \u001b[39mprint\u001b[39m(mis_numeros)\n\u001b[0;32m      6\u001b[0m mis_numeros\u001b[39m.\u001b[39mcount(\u001b[39m10\u001b[39m)\n",
      "\u001b[1;31mAttributeError\u001b[0m: 'set' object has no attribute 'sort'"
     ]
    }
   ],
   "source": [
    "mis_numeros= {10,15,20,12,11,19,7,10,6,3}\n",
    "\n",
    "mis_numeros.sort()\n",
    "print(mis_numeros)\n",
    "\n",
    "mis_numeros.count(10)\n",
    "print(mis_numeros)"
   ]
  },
  {
   "cell_type": "markdown",
   "metadata": {},
   "source": [
    "$$\\frac{1}{2}\\sum{i}^{n} x_i$$\n",
    "$$\\frac{1}{2}\\sum{i}^{n} x_i$$\n",
    "\n",
    "\n"
   ]
  },
  {
   "cell_type": "code",
   "execution_count": 14,
   "metadata": {},
   "outputs": [
    {
     "data": {
      "text/plain": [
       "10.3"
      ]
     },
     "execution_count": 14,
     "metadata": {},
     "output_type": "execute_result"
    }
   ],
   "source": [
    "sum(mis_numeros)\n",
    "len(mis_numeros)\n",
    "\n",
    "promedio= sum(mis_numeros)/len(mis_numeros)\n",
    "\n",
    "print(promedio)"
   ]
  }
 ],
 "metadata": {
  "kernelspec": {
   "display_name": "Python 3.10.6 64-bit",
   "language": "python",
   "name": "python3"
  },
  "language_info": {
   "codemirror_mode": {
    "name": "ipython",
    "version": 3
   },
   "file_extension": ".py",
   "mimetype": "text/x-python",
   "name": "python",
   "nbconvert_exporter": "python",
   "pygments_lexer": "ipython3",
   "version": "3.10.6"
  },
  "orig_nbformat": 4,
  "vscode": {
   "interpreter": {
    "hash": "5407641ef2a36ef5919f413ab581ec49fa66f35983069fd3cf81373102003132"
   }
  }
 },
 "nbformat": 4,
 "nbformat_minor": 2
}
