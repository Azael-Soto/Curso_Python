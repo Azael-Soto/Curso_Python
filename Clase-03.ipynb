{
 "cells": [
  {
   "cell_type": "markdown",
   "metadata": {},
   "source": [
    "## Clase 3"
   ]
  },
  {
   "cell_type": "code",
   "execution_count": 16,
   "metadata": {},
   "outputs": [
    {
     "name": "stdout",
     "output_type": "stream",
     "text": [
      "Necesitas ingresar una contraseña de más de 6 digitos\n",
      "Necesitas ingresar una contraseña de más de 6 digitos\n",
      "Usuario registrado\n"
     ]
    }
   ],
   "source": [
    "#Ciclo While\n",
    "auth = 0\n",
    "while auth == 0:\n",
    "    username=input(\"¿Cuál es tu usuario?: \")\n",
    "    password=input(\"¿Cuál es tu contraseña?: \")\n",
    "    if len(password)<6:\n",
    "        print(\"Necesitas ingresar una contraseña de más de 6 digitos\")\n",
    "    else:\n",
    "        print(\"Usuario registrado\")\n",
    "        auth=1"
   ]
  },
  {
   "cell_type": "code",
   "execution_count": 1,
   "metadata": {},
   "outputs": [
    {
     "name": "stdout",
     "output_type": "stream",
     "text": [
      "0\n",
      "1\n",
      "2\n",
      "3\n",
      "4\n"
     ]
    }
   ],
   "source": [
    "#Ciclo For\n",
    "\n",
    "n= int(input(\"¿Cuántas veces se repetirà: \"))\n",
    "for i in range(n):\n",
    "    print(i)"
   ]
  },
  {
   "cell_type": "code",
   "execution_count": 3,
   "metadata": {},
   "outputs": [
    {
     "name": "stdout",
     "output_type": "stream",
     "text": [
      "[0, 1, 4, 9, 16, 25, 36, 49, 64, 81]\n"
     ]
    }
   ],
   "source": [
    "numeros_cuadrado= []\n",
    "for i in range(10):\n",
    "    numeros_cuadrado.append(i**2)\n",
    "print(numeros_cuadrado)"
   ]
  },
  {
   "cell_type": "code",
   "execution_count": 10,
   "metadata": {},
   "outputs": [
    {
     "name": "stdout",
     "output_type": "stream",
     "text": [
      "manzana\n",
      "plátano\n",
      "pera\n",
      "naranja\n",
      "-------------\n",
      "manzana\n",
      "plátano\n",
      "pera\n",
      "naranja\n",
      "-------------\n",
      "manzana\n",
      "plátano\n",
      "pera\n",
      "naranja\n"
     ]
    }
   ],
   "source": [
    "mis_frutas=[\"manzana\",\"plátano\",\"pera\",\"naranja\"]\n",
    "for i in range(4):\n",
    "    print(mis_frutas[i])\n",
    "\n",
    "print(\"-------------\")\n",
    "#para no calcular\n",
    "for i in range(len(mis_frutas)):\n",
    "    print(mis_frutas[i])\n",
    "print(\"-------------\")\n",
    "#sin indices (no se necesita un lend)\n",
    "for e in mis_frutas:\n",
    "    print(e)"
   ]
  },
  {
   "cell_type": "code",
   "execution_count": 15,
   "metadata": {},
   "outputs": [],
   "source": [
    "cal= []\n",
    "n=int(input(\"Número de calificaciones: \"))\n",
    "for i in range (n):\n",
    "    calif=int(input(\"Dame la calificacion {i+1}\"))\n",
    "    cal.append(calif)\n",
    "    \n",
    "\n"
   ]
  }
 ],
 "metadata": {
  "kernelspec": {
   "display_name": "Python 3.10.6 64-bit",
   "language": "python",
   "name": "python3"
  },
  "language_info": {
   "codemirror_mode": {
    "name": "ipython",
    "version": 3
   },
   "file_extension": ".py",
   "mimetype": "text/x-python",
   "name": "python",
   "nbconvert_exporter": "python",
   "pygments_lexer": "ipython3",
   "version": "3.10.6"
  },
  "orig_nbformat": 4,
  "vscode": {
   "interpreter": {
    "hash": "5407641ef2a36ef5919f413ab581ec49fa66f35983069fd3cf81373102003132"
   }
  }
 },
 "nbformat": 4,
 "nbformat_minor": 2
}
